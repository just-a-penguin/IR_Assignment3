{
 "cells": [
  {
   "cell_type": "code",
   "execution_count": 12,
   "metadata": {},
   "outputs": [],
   "source": [
    "import pandas as pd\n",
    "import numpy as np\n",
    "\n",
    "usb_df_short=pd.read_csv('usb_df_short.csv')"
   ]
  },
  {
   "cell_type": "code",
   "execution_count": 13,
   "metadata": {},
   "outputs": [],
   "source": [
    "usb_df_short.head()\n",
    "\n",
    "#  take 1% of the data\n",
    "usb_df_short=usb_df_short.sample(frac=0.11, random_state=99)"
   ]
  },
  {
   "cell_type": "code",
   "execution_count": 14,
   "metadata": {},
   "outputs": [
    {
     "name": "stderr",
     "output_type": "stream",
     "text": [
      "C:\\Users\\lenovo\\AppData\\Local\\Temp\\ipykernel_16620\\4208821514.py:26: RuntimeWarning: invalid value encountered in scalar divide\n",
      "  weighted_scores = user_ratings.multiply(user_sim_scores).sum() / user_sim_scores.sum()\n"
     ]
    },
    {
     "ename": "KeyboardInterrupt",
     "evalue": "",
     "output_type": "error",
     "traceback": [
      "\u001b[1;31m---------------------------------------------------------------------------\u001b[0m",
      "\u001b[1;31mKeyboardInterrupt\u001b[0m                         Traceback (most recent call last)",
      "Cell \u001b[1;32mIn[14], line 47\u001b[0m\n\u001b[0;32m     45\u001b[0m \u001b[38;5;28;01mif\u001b[39;00m pd\u001b[38;5;241m.\u001b[39misna(user_item_matrix\u001b[38;5;241m.\u001b[39mloc[user_id, item_id]):\n\u001b[0;32m     46\u001b[0m     \u001b[38;5;28;01mcontinue\u001b[39;00m\n\u001b[1;32m---> 47\u001b[0m predicted \u001b[38;5;241m=\u001b[39m \u001b[43mpredict_rating\u001b[49m\u001b[43m(\u001b[49m\u001b[43muser_id\u001b[49m\u001b[43m,\u001b[49m\u001b[43m \u001b[49m\u001b[43mitem_id\u001b[49m\u001b[43m,\u001b[49m\u001b[43m \u001b[49m\u001b[43mN\u001b[49m\u001b[43m,\u001b[49m\u001b[43m \u001b[49m\u001b[43mcosine_sim_df\u001b[49m\u001b[43m,\u001b[49m\u001b[43m \u001b[49m\u001b[43muser_item_matrix\u001b[49m\u001b[43m)\u001b[49m\n\u001b[0;32m     48\u001b[0m actual \u001b[38;5;241m=\u001b[39m user_item_matrix\u001b[38;5;241m.\u001b[39mloc[user_id, item_id]\n\u001b[0;32m     49\u001b[0m absolute_errors\u001b[38;5;241m.\u001b[39mappend(\u001b[38;5;28mabs\u001b[39m(actual \u001b[38;5;241m-\u001b[39m predicted))\n",
      "Cell \u001b[1;32mIn[14], line 23\u001b[0m, in \u001b[0;36mpredict_rating\u001b[1;34m(user_id, item_id, top_n, sim_matrix, ratings_matrix)\u001b[0m\n\u001b[0;32m     22\u001b[0m \u001b[38;5;28;01mdef\u001b[39;00m \u001b[38;5;21mpredict_rating\u001b[39m(user_id, item_id, top_n, sim_matrix, ratings_matrix):\n\u001b[1;32m---> 23\u001b[0m     similar_users \u001b[38;5;241m=\u001b[39m \u001b[43msim_matrix\u001b[49m\u001b[43m[\u001b[49m\u001b[43muser_id\u001b[49m\u001b[43m]\u001b[49m\u001b[38;5;241;43m.\u001b[39;49m\u001b[43msort_values\u001b[49m\u001b[43m(\u001b[49m\u001b[43mascending\u001b[49m\u001b[38;5;241;43m=\u001b[39;49m\u001b[38;5;28;43;01mFalse\u001b[39;49;00m\u001b[43m)\u001b[49m[\u001b[38;5;241m1\u001b[39m:top_n\u001b[38;5;241m+\u001b[39m\u001b[38;5;241m1\u001b[39m]\u001b[38;5;241m.\u001b[39mindex\n\u001b[0;32m     24\u001b[0m     user_sim_scores \u001b[38;5;241m=\u001b[39m sim_matrix[user_id]\u001b[38;5;241m.\u001b[39msort_values(ascending\u001b[38;5;241m=\u001b[39m\u001b[38;5;28;01mFalse\u001b[39;00m)[\u001b[38;5;241m1\u001b[39m:top_n\u001b[38;5;241m+\u001b[39m\u001b[38;5;241m1\u001b[39m]\n\u001b[0;32m     25\u001b[0m     user_ratings \u001b[38;5;241m=\u001b[39m ratings_matrix\u001b[38;5;241m.\u001b[39mloc[similar_users, item_id]\n",
      "File \u001b[1;32m~\\AppData\\Local\\Packages\\PythonSoftwareFoundation.Python.3.11_qbz5n2kfra8p0\\LocalCache\\local-packages\\Python311\\site-packages\\pandas\\core\\series.py:3860\u001b[0m, in \u001b[0;36mSeries.sort_values\u001b[1;34m(self, axis, ascending, inplace, kind, na_position, ignore_index, key)\u001b[0m\n\u001b[0;32m   3856\u001b[0m         \u001b[38;5;28;01mreturn\u001b[39;00m \u001b[38;5;28mself\u001b[39m\u001b[38;5;241m.\u001b[39m_update_inplace(\u001b[38;5;28mself\u001b[39m)\n\u001b[0;32m   3857\u001b[0m     \u001b[38;5;28;01mreturn\u001b[39;00m \u001b[38;5;28mself\u001b[39m\u001b[38;5;241m.\u001b[39mcopy(deep\u001b[38;5;241m=\u001b[39m\u001b[38;5;28;01mNone\u001b[39;00m)\n\u001b[0;32m   3859\u001b[0m result \u001b[38;5;241m=\u001b[39m \u001b[38;5;28mself\u001b[39m\u001b[38;5;241m.\u001b[39m_constructor(\n\u001b[1;32m-> 3860\u001b[0m     \u001b[38;5;28mself\u001b[39m\u001b[38;5;241m.\u001b[39m_values[sorted_index], index\u001b[38;5;241m=\u001b[39m\u001b[38;5;28;43mself\u001b[39;49m\u001b[38;5;241;43m.\u001b[39;49m\u001b[43mindex\u001b[49m\u001b[43m[\u001b[49m\u001b[43msorted_index\u001b[49m\u001b[43m]\u001b[49m, copy\u001b[38;5;241m=\u001b[39m\u001b[38;5;28;01mFalse\u001b[39;00m\n\u001b[0;32m   3861\u001b[0m )\n\u001b[0;32m   3863\u001b[0m \u001b[38;5;28;01mif\u001b[39;00m ignore_index:\n\u001b[0;32m   3864\u001b[0m     result\u001b[38;5;241m.\u001b[39mindex \u001b[38;5;241m=\u001b[39m default_index(\u001b[38;5;28mlen\u001b[39m(sorted_index))\n",
      "File \u001b[1;32m~\\AppData\\Local\\Packages\\PythonSoftwareFoundation.Python.3.11_qbz5n2kfra8p0\\LocalCache\\local-packages\\Python311\\site-packages\\pandas\\core\\indexes\\base.py:5412\u001b[0m, in \u001b[0;36mIndex.__getitem__\u001b[1;34m(self, key)\u001b[0m\n\u001b[0;32m   5403\u001b[0m         \u001b[38;5;28;01mif\u001b[39;00m \u001b[38;5;28mlen\u001b[39m(key) \u001b[38;5;241m==\u001b[39m \u001b[38;5;241m0\u001b[39m \u001b[38;5;129;01mand\u001b[39;00m \u001b[38;5;28mlen\u001b[39m(key) \u001b[38;5;241m!=\u001b[39m \u001b[38;5;28mlen\u001b[39m(\u001b[38;5;28mself\u001b[39m):\n\u001b[0;32m   5404\u001b[0m             warnings\u001b[38;5;241m.\u001b[39mwarn(\n\u001b[0;32m   5405\u001b[0m                 \u001b[38;5;124m\"\u001b[39m\u001b[38;5;124mUsing a boolean indexer with length 0 on an Index with \u001b[39m\u001b[38;5;124m\"\u001b[39m\n\u001b[0;32m   5406\u001b[0m                 \u001b[38;5;124m\"\u001b[39m\u001b[38;5;124mlength greater than 0 is deprecated and will raise in a \u001b[39m\u001b[38;5;124m\"\u001b[39m\n\u001b[1;32m   (...)\u001b[0m\n\u001b[0;32m   5409\u001b[0m                 stacklevel\u001b[38;5;241m=\u001b[39mfind_stack_level(),\n\u001b[0;32m   5410\u001b[0m             )\n\u001b[1;32m-> 5412\u001b[0m result \u001b[38;5;241m=\u001b[39m \u001b[43mgetitem\u001b[49m\u001b[43m(\u001b[49m\u001b[43mkey\u001b[49m\u001b[43m)\u001b[49m\n\u001b[0;32m   5413\u001b[0m \u001b[38;5;66;03m# Because we ruled out integer above, we always get an arraylike here\u001b[39;00m\n\u001b[0;32m   5414\u001b[0m \u001b[38;5;28;01mif\u001b[39;00m result\u001b[38;5;241m.\u001b[39mndim \u001b[38;5;241m>\u001b[39m \u001b[38;5;241m1\u001b[39m:\n",
      "\u001b[1;31mKeyboardInterrupt\u001b[0m: "
     ]
    }
   ],
   "source": [
    "import pandas as pd\n",
    "import numpy as np\n",
    "from sklearn.metrics.pairwise import cosine_similarity\n",
    "from sklearn.model_selection import KFold\n",
    "from sklearn.preprocessing import MinMaxScaler\n",
    "\n",
    "\n",
    "df = pd.DataFrame(usb_df_short)\n",
    "# Create user-item matrix\n",
    "user_item_matrix = df.pivot_table(index='reviewerID', columns='asin', values='overall').fillna(0)\n",
    "\n",
    "# Normalize ratings\n",
    "scaler = MinMaxScaler()\n",
    "user_item_matrix_scaled = pd.DataFrame(scaler.fit_transform(user_item_matrix), \n",
    "                                       index=user_item_matrix.index, \n",
    "                                       columns=user_item_matrix.columns)\n",
    "\n",
    "# Compute cosine similarity\n",
    "cosine_sim = cosine_similarity(user_item_matrix_scaled)\n",
    "cosine_sim_df = pd.DataFrame(cosine_sim, index=user_item_matrix_scaled.index, columns=user_item_matrix_scaled.index)\n",
    "\n",
    "def predict_rating(user_id, item_id, top_n, sim_matrix, ratings_matrix):\n",
    "    similar_users = sim_matrix[user_id].sort_values(ascending=False)[1:top_n+1].index\n",
    "    user_sim_scores = sim_matrix[user_id].sort_values(ascending=False)[1:top_n+1]\n",
    "    user_ratings = ratings_matrix.loc[similar_users, item_id]\n",
    "    weighted_scores = user_ratings.multiply(user_sim_scores).sum() / user_sim_scores.sum()\n",
    "    return weighted_scores\n",
    "\n",
    "# K-Folds Cross-Validation\n",
    "kf = KFold(n_splits=5, shuffle=True, random_state=42)\n",
    "mae_list = {n: [] for n in [10, 20, 30, 40, 50]}\n",
    "\n",
    "for train_index, test_index in kf.split(user_item_matrix_scaled):\n",
    "    # Splitting the dataset\n",
    "    train, test = user_item_matrix_scaled.iloc[train_index], user_item_matrix_scaled.iloc[test_index]\n",
    "    \n",
    "    for N in [10, 20, 30, 40, 50]:\n",
    "        absolute_errors = []\n",
    "        \n",
    "        # Iterate through each user,item pair in the test set\n",
    "        for index, row in test.iterrows():\n",
    "            user_id = index\n",
    "            for item_id in user_item_matrix_scaled.columns:\n",
    "                # Predict only for items not rated by the user\n",
    "                if pd.isna(user_item_matrix.loc[user_id, item_id]):\n",
    "                    continue\n",
    "                predicted = predict_rating(user_id, item_id, N, cosine_sim_df, user_item_matrix)\n",
    "                actual = user_item_matrix.loc[user_id, item_id]\n",
    "                absolute_errors.append(abs(actual - predicted))\n",
    "                \n",
    "        # Calculate MAE for this fold and N\n",
    "        mae = np.mean(absolute_errors)\n",
    "        mae_list[N].append(mae)\n",
    "\n",
    "# Average the MAE across all folds for each N\n",
    "average_mae = {N: np.mean(maes) for N, maes in mae_list.items()}\n",
    "print(average_mae)\n"
   ]
  },
  {
   "cell_type": "code",
   "execution_count": null,
   "metadata": {},
   "outputs": [
    {
     "name": "stderr",
     "output_type": "stream",
     "text": [
      "C:\\Users\\lenovo\\AppData\\Local\\Temp\\ipykernel_16620\\2032910560.py:18: RuntimeWarning: invalid value encountered in scalar divide\n",
      "  weighted_scores = user_ratings.multiply(item_sim_scores).sum() / item_sim_scores.sum()\n"
     ]
    },
    {
     "name": "stdout",
     "output_type": "stream",
     "text": [
      "{10: nan, 20: nan, 30: nan, 40: nan, 50: nan}\n"
     ]
    }
   ],
   "source": [
    "# Step 1: Transpose the user-item matrix to get the item-user matrix\n",
    "item_user_matrix = user_item_matrix.T\n",
    "\n",
    "# Normalize ratings\n",
    "item_user_matrix_scaled = pd.DataFrame(scaler.fit_transform(item_user_matrix), \n",
    "                                       index=item_user_matrix.index, \n",
    "                                       columns=item_user_matrix.columns)\n",
    "\n",
    "# Step 2: Compute cosine similarity between items\n",
    "item_cosine_sim = cosine_similarity(item_user_matrix_scaled)\n",
    "item_cosine_sim_df = pd.DataFrame(item_cosine_sim, index=item_user_matrix_scaled.index, columns=item_user_matrix_scaled.index)\n",
    "\n",
    "# Adjust the predict_rating function for item-item recommendations\n",
    "def predict_rating_item(item_id, user_id, top_n, sim_matrix, ratings_matrix):\n",
    "    similar_items = sim_matrix[item_id].sort_values(ascending=False)[1:top_n+1].index\n",
    "    item_sim_scores = sim_matrix[item_id].sort_values(ascending=False)[1:top_n+1]\n",
    "    user_ratings = ratings_matrix.loc[similar_items, user_id]\n",
    "    weighted_scores = user_ratings.multiply(item_sim_scores).sum() / item_sim_scores.sum()\n",
    "    return weighted_scores\n",
    "\n",
    "# K-Folds Cross-Validation\n",
    "kf = KFold(n_splits=5, shuffle=True, random_state=42)\n",
    "mae_list = {n: [] for n in [10, 20, 30, 40, 50]}\n",
    "\n",
    "for train_index, test_index in kf.split(item_user_matrix_scaled):\n",
    "    # Splitting the dataset\n",
    "    train, test = item_user_matrix_scaled.iloc[train_index], item_user_matrix_scaled.iloc[test_index]\n",
    "    \n",
    "    for N in [10, 20, 30, 40, 50]:\n",
    "        absolute_errors = []\n",
    "        \n",
    "        # Iterate through each item,user pair in the test set\n",
    "        for index, row in test.iterrows():\n",
    "            item_id = index\n",
    "            for user_id in item_user_matrix_scaled.columns:\n",
    "                # Predict only for items not rated by the user\n",
    "                if pd.isna(user_item_matrix.loc[user_id, item_id]):\n",
    "                    continue\n",
    "                predicted = predict_rating_item(item_id, user_id, N, item_cosine_sim_df, item_user_matrix)\n",
    "                actual = user_item_matrix.loc[user_id, item_id]\n",
    "                absolute_errors.append(abs(actual - predicted))\n",
    "                \n",
    "        # Calculate MAE for this fold and N\n",
    "        mae = np.mean(absolute_errors)\n",
    "        mae_list[N].append(mae)\n",
    "\n",
    "# Average the MAE across all folds for each N\n",
    "average_mae_item = {N: np.mean(maes) for N, maes in mae_list.items()}\n",
    "print(average_mae_item)\n"
   ]
  },
  {
   "cell_type": "code",
   "execution_count": null,
   "metadata": {},
   "outputs": [],
   "source": [
    "import matplotlib.pyplot as plt\n",
    "\n",
    "# Plotting\n",
    "plt.figure(figsize=(10, 5))\n",
    "plt.plot(list(average_mae_user.keys()), list(average_mae.values()), label='User-User MAE', marker='o')\n",
    "plt.plot(list(average_mae_item.keys()), list(average_mae_item.values()), label='Item-Item MAE', marker='x')\n",
    "plt.xlabel('Number of Similar Users/Items (K)')\n",
    "plt.ylabel('Mean Absolute Error (MAE)')\n",
    "plt.title('MAE of Recommender Systems')\n",
    "plt.legend()\n",
    "plt.show()\n"
   ]
  },
  {
   "cell_type": "code",
   "execution_count": null,
   "metadata": {},
   "outputs": [],
   "source": []
  }
 ],
 "metadata": {
  "kernelspec": {
   "display_name": "Python 3",
   "language": "python",
   "name": "python3"
  },
  "language_info": {
   "codemirror_mode": {
    "name": "ipython",
    "version": 3
   },
   "file_extension": ".py",
   "mimetype": "text/x-python",
   "name": "python",
   "nbconvert_exporter": "python",
   "pygments_lexer": "ipython3",
   "version": "3.11.9"
  }
 },
 "nbformat": 4,
 "nbformat_minor": 2
}
